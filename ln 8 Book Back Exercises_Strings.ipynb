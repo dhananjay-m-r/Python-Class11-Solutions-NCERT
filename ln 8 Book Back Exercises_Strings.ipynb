{
  "nbformat": 4,
  "nbformat_minor": 0,
  "metadata": {
    "colab": {
      "provenance": [],
      "toc_visible": true,
      "authorship_tag": "ABX9TyPXzoeKldBfNcZFnX0Cgjen",
      "include_colab_link": true
    },
    "kernelspec": {
      "name": "python3",
      "display_name": "Python 3"
    },
    "language_info": {
      "name": "python"
    }
  },
  "cells": [
    {
      "cell_type": "markdown",
      "metadata": {
        "id": "view-in-github",
        "colab_type": "text"
      },
      "source": [
        "<a href=\"https://colab.research.google.com/github/dhananjay-m-r/Python-Class11-Solutions-NCERT/blob/main/ln%208%20Book%20Back%20Exercises_Strings.ipynb\" target=\"_parent\"><img src=\"https://colab.research.google.com/assets/colab-badge.svg\" alt=\"Open In Colab\"/></a>"
      ]
    },
    {
      "cell_type": "markdown",
      "source": [
        "#About this notebook\n",
        "\n",
        "Notebook made by: Dhananjay M.R\n",
        "\n",
        "Subject: Computer Science - Grade 11 CBSE\n",
        "\n",
        "Language: - Python\n",
        "\n",
        "Topic: Book Back Exercise Questions of the lesson - Strings\n",
        "\n",
        "Execution mode: Script Mode\n",
        "\n",
        "Note: Theory based questions are not available in this notebook."
      ],
      "metadata": {
        "id": "V3ACoi843RMV"
      }
    },
    {
      "cell_type": "markdown",
      "source": [
        "#Qn No.1 What will be the output for the following string operations:\n",
        "Consider the following string mySubject:        \n",
        "\n",
        "mySubject = \"Computer Science\""
      ],
      "metadata": {
        "id": "Rlb-2QuA5s-O"
      }
    },
    {
      "cell_type": "code",
      "source": [
        "mySubject = \"Computer Science\"\n",
        "# The above string is a global variable which will be used throughout the notebook\n",
        "\n",
        "# Part i\n",
        "print('Solution for the part i of the question: ')\n",
        "print(mySubject[0:len(mySubject)])\n",
        "print('')\n",
        "# End of part i :)\n",
        "\n",
        "# Part ii\n",
        "print('Solution for the part ii of the question: ')\n",
        "print(mySubject[-7:-1])\n",
        "print('')\n",
        "# End of part ii :)\n",
        "\n",
        "# Part iii\n",
        "print('Solution for the part iii of the question: ')\n",
        "print(mySubject[::2])\n",
        "print('')\n",
        "# End of part iii :)\n",
        "\n",
        "# Part iv\n",
        "print('Solution for the part iv of the question: ')\n",
        "print(mySubject[len(mySubject)-1])\n",
        "print('')\n",
        "# End of part iv :)\n",
        "\n",
        "# Part v\n",
        "print('Solution for the part v of the question: ')\n",
        "print(2*mySubject)\n",
        "print('')\n",
        "# End of part v :)\n",
        "\n",
        "# Part vi\n",
        "print('Solution for the part vi of the question: ')\n",
        "print(mySubject[::-2])\n",
        "print('')\n",
        "# End of part vi :)\n",
        "\n",
        "# Part vii\n",
        "print('Solution for the part vii of the question: ')\n",
        "print(mySubject[:3] + mySubject[3:])\n",
        "print('')\n",
        "# End of part vii :)\n",
        "\n",
        "# Part viii\n",
        "print('Solution for the part viii of the question: ')\n",
        "print(mySubject.swapcase())\n",
        "print('')\n",
        "# End of part viii :)\n",
        "\n",
        "# Part ix\n",
        "print('Solution for the part ix of the question: ')\n",
        "print(mySubject.startswith('Comp'))\n",
        "print('')\n",
        "# End of part ix :)\n",
        "\n",
        "# Part x\n",
        "print('Solution for the part x of the question: ')\n",
        "print(mySubject.isalpha())\n",
        "print('')\n",
        "# End of part x :)"
      ],
      "metadata": {
        "colab": {
          "base_uri": "https://localhost:8080/"
        },
        "id": "s7u5BwvX6CT1",
        "outputId": "851ba308-7dd3-4c60-b3be-735f8b689d28"
      },
      "execution_count": null,
      "outputs": [
        {
          "output_type": "stream",
          "name": "stdout",
          "text": [
            "Solution for the part i of the question: \n",
            "Computer Science\n",
            "\n",
            "Solution for the part ii of the question: \n",
            "Scienc\n",
            "\n",
            "Solution for the part iii of the question: \n",
            "Cmue cec\n",
            "\n",
            "Solution for the part iv of the question: \n",
            "e\n",
            "\n",
            "Solution for the part v of the question: \n",
            "Computer ScienceComputer Science\n",
            "\n",
            "Solution for the part vi of the question: \n",
            "eniSrtpo\n",
            "\n",
            "Solution for the part vii of the question: \n",
            "Computer Science\n",
            "\n",
            "Solution for the part viii of the question: \n",
            "cOMPUTER sCIENCE\n",
            "\n",
            "Solution for the part ix of the question: \n",
            "True\n",
            "\n",
            "Solution for the part x of the question: \n",
            "False\n",
            "\n"
          ]
        }
      ]
    },
    {
      "cell_type": "markdown",
      "source": [
        "#Qn No.2 What will be the output for the following string operations:\n",
        "Consider the following string myAddress:             \n",
        "\n",
        "myAddress = \"WZ-1,New Ganga Nagar,New Delhi\""
      ],
      "metadata": {
        "id": "jKsedJ9j_Ofm"
      }
    },
    {
      "cell_type": "code",
      "source": [
        " myAddress = \"WZ-1,New Ganga Nagar,New Delhi\"\n",
        "# The above string is a global variable which will be used throughout the notebook\n",
        "\n",
        "# Part i\n",
        "print('Solution for the part i of the question: ')\n",
        "print(myAddress.lower())\n",
        "print('')\n",
        "# End of part i :)\n",
        "\n",
        "# Part ii\n",
        "print('Solution for the part ii of the question: ')\n",
        "print(myAddress.upper())\n",
        "print('')\n",
        "# End of part ii :)\n",
        "\n",
        "# Part iii\n",
        "print('Solution for the part iii of the question: ')\n",
        "print(myAddress.count('New'))\n",
        "print('')\n",
        "# End of part iii :)\n",
        "\n",
        "# Part iv\n",
        "print('Solution for the part iv of the question: ')\n",
        "print(myAddress.find('New'))\n",
        "print('')\n",
        "# End of part iv :)\n",
        "\n",
        "# Part v\n",
        "print('Solution for the part v of the question: ')\n",
        "print(myAddress.rfind('New'))\n",
        "print('')\n",
        "# End of part v :)\n",
        "\n",
        "# Part vi\n",
        "print('Solution for the part vi of the question: ')\n",
        "print(myAddress.split(','))\n",
        "print('')\n",
        "# End of part vi :)\n",
        "\n",
        "# Part vii\n",
        "print('Solution for the part vii of the question: ')\n",
        "print(myAddress.split(' '))\n",
        "print('')\n",
        "# End of part vii :)\n",
        "\n",
        "# Part viii\n",
        "print('Solution for the part viii of the question: ')\n",
        "print(myAddress.replace('New','Old'))\n",
        "print('')\n",
        "# End of part viii :)\n",
        "\n",
        "# Part ix\n",
        "print('Solution for the part ix of the question: ')\n",
        "print(myAddress.partition(','))\n",
        "print('')\n",
        "# End of part ix :)\n",
        "\n",
        "# Part x\n",
        "print('Solution for the part x of the question: ')\n",
        "print(myAddress.index('Agra'))\n",
        "print('')\n",
        "# End of part x :)\n",
        "# Note: part x, ends up with an error"
      ],
      "metadata": {
        "colab": {
          "base_uri": "https://localhost:8080/",
          "height": 722
        },
        "id": "kRALUwwj_Vgp",
        "outputId": "c80736f0-1f30-4cb2-989b-39629bd2b710"
      },
      "execution_count": null,
      "outputs": [
        {
          "output_type": "stream",
          "name": "stdout",
          "text": [
            "Solution for the part i of the question: \n",
            "wz-1,new ganga nagar,new delhi\n",
            "\n",
            "Solution for the part ii of the question: \n",
            "WZ-1,NEW GANGA NAGAR,NEW DELHI\n",
            "\n",
            "Solution for the part iii of the question: \n",
            "2\n",
            "\n",
            "Solution for the part iv of the question: \n",
            "5\n",
            "\n",
            "Solution for the part v of the question: \n",
            "21\n",
            "\n",
            "Solution for the part vi of the question: \n",
            "['WZ-1', 'New Ganga Nagar', 'New Delhi']\n",
            "\n",
            "Solution for the part vii of the question: \n",
            "['WZ-1,New', 'Ganga', 'Nagar,New', 'Delhi']\n",
            "\n",
            "Solution for the part viii of the question: \n",
            "WZ-1,Old Ganga Nagar,Old Delhi\n",
            "\n",
            "Solution for the part ix of the question: \n",
            "('WZ-1', ',', 'New Ganga Nagar,New Delhi')\n",
            "\n",
            "Solution for the part x of the question: \n"
          ]
        },
        {
          "output_type": "error",
          "ename": "ValueError",
          "evalue": "ignored",
          "traceback": [
            "\u001b[0;31m---------------------------------------------------------------------------\u001b[0m",
            "\u001b[0;31mValueError\u001b[0m                                Traceback (most recent call last)",
            "\u001b[0;32m<ipython-input-2-b3ff544d8a71>\u001b[0m in \u001b[0;36m<module>\u001b[0;34m\u001b[0m\n\u001b[1;32m     58\u001b[0m \u001b[0;31m# Part x\u001b[0m\u001b[0;34m\u001b[0m\u001b[0;34m\u001b[0m\u001b[0;34m\u001b[0m\u001b[0m\n\u001b[1;32m     59\u001b[0m \u001b[0mprint\u001b[0m\u001b[0;34m(\u001b[0m\u001b[0;34m'Solution for the part x of the question: '\u001b[0m\u001b[0;34m)\u001b[0m\u001b[0;34m\u001b[0m\u001b[0;34m\u001b[0m\u001b[0m\n\u001b[0;32m---> 60\u001b[0;31m \u001b[0mprint\u001b[0m\u001b[0;34m(\u001b[0m\u001b[0mmyAddress\u001b[0m\u001b[0;34m.\u001b[0m\u001b[0mindex\u001b[0m\u001b[0;34m(\u001b[0m\u001b[0;34m'Agra'\u001b[0m\u001b[0;34m)\u001b[0m\u001b[0;34m)\u001b[0m\u001b[0;34m\u001b[0m\u001b[0;34m\u001b[0m\u001b[0m\n\u001b[0m\u001b[1;32m     61\u001b[0m \u001b[0mprint\u001b[0m\u001b[0;34m(\u001b[0m\u001b[0;34m''\u001b[0m\u001b[0;34m)\u001b[0m\u001b[0;34m\u001b[0m\u001b[0;34m\u001b[0m\u001b[0m\n\u001b[1;32m     62\u001b[0m \u001b[0;31m# End of part x :)\u001b[0m\u001b[0;34m\u001b[0m\u001b[0;34m\u001b[0m\u001b[0;34m\u001b[0m\u001b[0m\n",
            "\u001b[0;31mValueError\u001b[0m: substring not found"
          ]
        }
      ]
    }
  ]
}