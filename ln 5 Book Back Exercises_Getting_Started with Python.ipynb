{
  "nbformat": 4,
  "nbformat_minor": 0,
  "metadata": {
    "colab": {
      "provenance": [],
      "toc_visible": true,
      "authorship_tag": "ABX9TyPceaxgKH/T0jks1ge5ntNt",
      "include_colab_link": true
    },
    "kernelspec": {
      "name": "python3",
      "display_name": "Python 3"
    },
    "language_info": {
      "name": "python"
    }
  },
  "cells": [
    {
      "cell_type": "markdown",
      "metadata": {
        "id": "view-in-github",
        "colab_type": "text"
      },
      "source": [
        "<a href=\"https://colab.research.google.com/github/dhananjay-m-r/Python-Class11-Solutions-NCERT/blob/main/ln_5_Book_Back_Exercises_Getting_Started_with_Python.ipynb\" target=\"_parent\"><img src=\"https://colab.research.google.com/assets/colab-badge.svg\" alt=\"Open In Colab\"/></a>"
      ]
    },
    {
      "cell_type": "markdown",
      "source": [
        "#About this notebook\n",
        "\n",
        "Notebook made by: Dhananjay M.R\n",
        "\n",
        "Subject: Computer Science - Grade 11 CBSE\n",
        "\n",
        "Language: - Python\n",
        "\n",
        "Topic: Book Back Exercise Questions of the lesson - Getting Started with Python\n",
        "\n",
        "Execution mode: Script Mode\n",
        "\n",
        "Note: Theory based questions are not available in this notebook."
      ],
      "metadata": {
        "id": "0QtBIsrA_aOI"
      }
    },
    {
      "cell_type": "markdown",
      "source": [
        "# Qn No.2 Write the corresponding Python assignment statements: \n",
        "\n",
        "a) Assign 10 to variable length and 20 to variable breadth. \n",
        "\n",
        "b) Assign the average of values of variables length and breadth to a variable sum. \n",
        "\n",
        "c) Assign a list containing strings ‘Paper’, ‘Gel Pen’, and ‘Eraser’ to a variable  stationery. \n",
        "\n",
        "d) Assign the strings ‘Mohandas’, ‘Karamchand’, and ‘Gandhi’ to variables first, middle and last. \n",
        "\n",
        "e) Assign the concatenated value of string variables first, middle and last to  variable fullname. Make sure to incorporate blank spaces appropriately between different parts of names."
      ],
      "metadata": {
        "id": "0YE52HVw_zDC"
      }
    },
    {
      "cell_type": "code",
      "execution_count": null,
      "metadata": {
        "id": "8NxMU1xv-9HQ"
      },
      "outputs": [],
      "source": [
        "# Qn. Assign 10 to variable length and 20 to variable breadth.\n",
        "# Solution for A\n",
        "length = 10     #Assigns the value 10 to the variable length\n",
        "breadth = 20    #Assings the value 20 to the variable breadth"
      ]
    },
    {
      "cell_type": "code",
      "source": [
        "length = 10 \n",
        "breadth = 20\n",
        "# The above values are from the part a of the qn, required for the b part\n",
        "\n",
        "# Qn. Assign the average of values of variables length and breadth to a variable sum.\n",
        "# Solution for B\n",
        "\n",
        "sum = (length + breadth)/2    #Average\n",
        "print(sum)    #Optional statement (used here to verify the answer)"
      ],
      "metadata": {
        "colab": {
          "base_uri": "https://localhost:8080/"
        },
        "id": "MmijFaDvKwjw",
        "outputId": "d9e92048-3a5e-4d1b-9ae4-37618373ccde"
      },
      "execution_count": null,
      "outputs": [
        {
          "output_type": "stream",
          "name": "stdout",
          "text": [
            "15.0\n"
          ]
        }
      ]
    },
    {
      "cell_type": "code",
      "source": [
        "# Qn. Assign a list containing strings ‘Paper’, ‘Gel Pen’, and ‘Eraser’ to a variable stationery.\n",
        "# Solution for C\n",
        "stationery = ['Paper', 'Gel Pen', 'Eraser']   #Assigns the strings in a list\n",
        "print(stationery)    #Optional statement (used here to verify the answer)"
      ],
      "metadata": {
        "colab": {
          "base_uri": "https://localhost:8080/"
        },
        "id": "4x5ta_9gLv_l",
        "outputId": "13bad92a-6f8f-4555-9d14-fb621be2bbda"
      },
      "execution_count": null,
      "outputs": [
        {
          "output_type": "stream",
          "name": "stdout",
          "text": [
            "['Paper', 'Gel Pen', 'Eraser']\n"
          ]
        }
      ]
    },
    {
      "cell_type": "code",
      "source": [
        "# Qn. Assign the strings ‘Mohandas’, ‘Karamchand’, and ‘Gandhi’ to variables first, middle and last.\n",
        "# Solution for D\n",
        "first = 'Mohandas'\n",
        "middle = 'Karamchand'\n",
        "last = 'Gandhi'"
      ],
      "metadata": {
        "id": "Re27ThydMgS4"
      },
      "execution_count": null,
      "outputs": []
    },
    {
      "cell_type": "code",
      "source": [
        "first = 'Mohandas'\n",
        "middle = 'Karamchand'\n",
        "last = 'Gandhi'\n",
        "# The above values are from the a part D of the qn, required for the E part\n",
        "\n",
        "# Qn. Assign the concatenated value of string variables first, middle and last \n",
        "#to variable fullname. Make sure to incorporate blank spaces appropriately \n",
        "#between different parts of names.\n",
        "\n",
        "# Solution\n",
        "fullname = first + ' ' + middle + ' ' + last  #Concating the values\n",
        "print(fullname)    #Optional statement (used here to verify the answer)"
      ],
      "metadata": {
        "colab": {
          "base_uri": "https://localhost:8080/"
        },
        "id": "CDCgIYsBNDcp",
        "outputId": "95e169c5-d272-4cd8-fb86-c8acfe00303a"
      },
      "execution_count": null,
      "outputs": [
        {
          "output_type": "stream",
          "name": "stdout",
          "text": [
            "Mohandas Karamchand Gandhi\n"
          ]
        }
      ]
    },
    {
      "cell_type": "markdown",
      "source": [
        "#Qn No.4 Add a pair of parentheses to each expression so that it evaluates to True. \n",
        "\n",
        "a)0 == 1 == 2 \n",
        "\n",
        "b)2 + 3 == 4 + 5 == 7 \n",
        "\n",
        "c)1 < -1 == 3 > 4   "
      ],
      "metadata": {
        "id": "U63FR7AUOfoX"
      }
    },
    {
      "cell_type": "code",
      "source": [
        "# Solution for part A\n",
        "(0 == (1 == 2))"
      ],
      "metadata": {
        "colab": {
          "base_uri": "https://localhost:8080/"
        },
        "id": "Y4KCk4MKOtcx",
        "outputId": "f728227d-225d-4bd6-b5c0-87dd559a2aed"
      },
      "execution_count": null,
      "outputs": [
        {
          "output_type": "execute_result",
          "data": {
            "text/plain": [
              "True"
            ]
          },
          "metadata": {},
          "execution_count": 7
        }
      ]
    },
    {
      "cell_type": "code",
      "source": [
        "# Solution for part B\n",
        "(2 + (3 == 4) + 5) == 7"
      ],
      "metadata": {
        "colab": {
          "base_uri": "https://localhost:8080/"
        },
        "id": "9c5hXqxZO15p",
        "outputId": "ee6649d9-eb75-41fb-a3a9-344ecece45bf"
      },
      "execution_count": null,
      "outputs": [
        {
          "output_type": "execute_result",
          "data": {
            "text/plain": [
              "True"
            ]
          },
          "metadata": {},
          "execution_count": 8
        }
      ]
    },
    {
      "cell_type": "code",
      "source": [
        "# Solution for part C\n",
        "(1 < -1) == (3 > 4)"
      ],
      "metadata": {
        "colab": {
          "base_uri": "https://localhost:8080/"
        },
        "id": "bG8TbLTrO_RJ",
        "outputId": "1ba6f29a-ebb0-454a-da20-b165a839d5ab"
      },
      "execution_count": null,
      "outputs": [
        {
          "output_type": "execute_result",
          "data": {
            "text/plain": [
              "True"
            ]
          },
          "metadata": {},
          "execution_count": 9
        }
      ]
    },
    {
      "cell_type": "markdown",
      "source": [
        "#Qn No.5 Write the output of the following: "
      ],
      "metadata": {
        "id": "y7EtNZrTPSO2"
      }
    },
    {
      "cell_type": "code",
      "source": [
        "#Part A.\n",
        "num1 = 4 \n",
        "num2 = num1 + 1 \n",
        "num1 = 2 \n",
        "print('Output for the part A of the question is:')\n",
        "print(num1, num2) \n",
        "\n",
        "print('')\n",
        "\n",
        "# Part B.\n",
        "num1, num2 = 2, 6 \n",
        "num1, num2 = num2, num1 + 2 \n",
        "print('Output for the part B of the question is:')\n",
        "print(num1, num2)\n",
        "\n",
        "print('')\n",
        "\n",
        "# Part C.\n",
        "num1, num2 = 2, 3 \n",
        "num3, num2 = num1, num3 + 1 \n",
        "print(num1, num2, num3)\n",
        "#Note: Part c ends up with a error :)"
      ],
      "metadata": {
        "colab": {
          "base_uri": "https://localhost:8080/"
        },
        "id": "6FjHjLceQLl5",
        "outputId": "fc9d880d-059f-4eca-bc77-5e2f6dd3c321"
      },
      "execution_count": null,
      "outputs": [
        {
          "output_type": "stream",
          "name": "stdout",
          "text": [
            "Output for the part A of the question is:\n",
            "2 5\n",
            "\n",
            "Output for the part B of the question is:\n",
            "6 4\n",
            "\n"
          ]
        }
      ]
    },
    {
      "cell_type": "markdown",
      "source": [
        "#Qn No 7. Write the output for the following when:\n",
        "num1 = 4\n",
        "\n",
        "num2 = 3\n",
        "\n",
        "num3 = 2"
      ],
      "metadata": {
        "id": "fHu0XRMcRW8n"
      }
    },
    {
      "cell_type": "code",
      "source": [
        "num1 = 4\n",
        "num2 = 3\n",
        "num3 = 2\n",
        "# The above are some global variables (here only)\n",
        "\n",
        "# Part A\n",
        "num1 += num2 + num3\n",
        "print('Output for Part A: ')  #Optional Statement\n",
        "print(num1)\n",
        "# End of part A\n",
        "\n",
        "print('')\n",
        "\n",
        "# Part B\n",
        "num1 = num1 ** (num2 + num3)\n",
        "print('Output for Part B: ')  #Optional Statement\n",
        "print(num1)\n",
        "# End of part B\n",
        "\n",
        "print('')\n",
        "\n",
        "num1 = 4 #Redeclaring value of num1 as we have changed it in last operation\n",
        "\n",
        "# Part C\n",
        "num1 **= num2 + num3\n",
        "print('Output for Part C: ')  #Optional Statement\n",
        "print(num1)\n",
        "# End of part C\n",
        "\n",
        "print('')\n",
        "\n",
        "# Part D\n",
        "num1 = '5' + '5'\n",
        "print('Output for Part D: ')  #Optional Statement\n",
        "print(num1)\n",
        "# End of part D\n",
        "\n",
        "print('')\n",
        "\n",
        "# Part E\n",
        "print('Output for Part E: ')  #Optional Statement\n",
        "print(4.00/(2.0 + 2.0))\n",
        "# End of part E\n",
        "\n",
        "print('')\n",
        "\n",
        "# Part F\n",
        "num1 = 2 + 9 * ((3*12)-8)/10\n",
        "print('Output for Part F: ')  #Optional Statement\n",
        "print(num1)\n",
        "# End of part F\n",
        "\n",
        "print('')\n",
        "\n",
        "# Part G\n",
        "num1 = 24//4//2\n",
        "print('Output for Part G: ')  #Optional Statement\n",
        "print(num1)\n",
        "# End of part G\n",
        "\n",
        "print('')\n",
        "\n",
        "# Part H\n",
        "num1 = float(10)\n",
        "print('Output for Part H: ')  #Optional Statement\n",
        "print(num1)\n",
        "# End of part H\n",
        "\n",
        "print('')\n",
        "\n",
        "# Part i - It ends up with an error, hence will be shown in the end\n",
        "print('Part i ends up with an error, hence will be shown in the end')\n",
        "\n",
        "print('')\n",
        "\n",
        "# Part J\n",
        "print('Output for Part J: ')  #Optional Statement\n",
        "print('BYE' == 'Bye')\n",
        "# End of part J\n",
        "\n",
        "print('')\n",
        "\n",
        "# Part K\n",
        "print('Output for Part K: ')  #Optional Statement\n",
        "print(10 != 9 and 20 >= 20)\n",
        "# End of part K\n",
        "\n",
        "print('')\n",
        "\n",
        "# Part L\n",
        "print('Output for Part L: ')  #Optional Statement\n",
        "print(10 + 6 * 2 **2 != 9 //4 - 3 and 29 >= 29/9)\n",
        "# End of part L\n",
        "\n",
        "print('')\n",
        "\n",
        "# Part M\n",
        "print('Output for Part M: ')  #Optional Statement\n",
        "print(5 % 10 + 10 < 50 and 29 <= 29)\n",
        "# End of part M\n",
        "\n",
        "print('')\n",
        "\n",
        "# Part N\n",
        "print('Output for Part N: ')  #Optional Statement\n",
        "print((0 < 6) or (not(10 == 6)) and (10 < 0))\n",
        "# End of part N\n",
        "\n",
        "print('')\n",
        "\n",
        "# Part I\n",
        "num1 = int('3.14')\n",
        "print(num1)"
      ],
      "metadata": {
        "colab": {
          "base_uri": "https://localhost:8080/"
        },
        "id": "KVi2hJ8gRp3_",
        "outputId": "d31abe70-2ea7-4991-e02f-17b030c6fc72"
      },
      "execution_count": null,
      "outputs": [
        {
          "output_type": "stream",
          "name": "stdout",
          "text": [
            "Output for Part A: \n",
            "9\n",
            "\n",
            "Output for Part B: \n",
            "59049\n",
            "\n",
            "Output for Part C: \n",
            "1024\n",
            "\n",
            "Output for Part D: \n",
            "55\n",
            "\n",
            "Output for Part E: \n",
            "1.0\n",
            "\n",
            "Output for Part F: \n",
            "27.2\n",
            "\n",
            "Output for Part G: \n",
            "3\n",
            "\n",
            "Output for Part H: \n",
            "10.0\n",
            "\n",
            "Part i ends up with an error, hence will be shown in the end\n",
            "\n",
            "Output for Part J: \n",
            "False\n",
            "\n",
            "Output for Part K: \n",
            "True\n",
            "\n",
            "Output for Part L: \n",
            "True\n",
            "\n",
            "Output for Part M: \n",
            "True\n",
            "\n",
            "Output for Part N: \n",
            "True\n",
            "\n"
          ]
        }
      ]
    },
    {
      "cell_type": "markdown",
      "source": [
        "#Qn No.10 Write a python program to:\n",
        "Convert temperature in degree Celsius to degree Fahrenheit. If water boils at 100 degree C and freezes as 0 degree C, use the program to find out what is the boiling point and freezing point of water on the Fahrenheit scale.   \n",
        "\n",
        "(Hint: T(°F) = T(°C) × 9/5 + 32)\n",
        "\n",
        "Note: Here in the question the input value is not required as we just have to convert the boiling/melting point from celcius to fahrenheit & the boiling/melting point in celcius is already given in the question."
      ],
      "metadata": {
        "id": "QoBL1eOwZ_kB"
      }
    },
    {
      "cell_type": "code",
      "source": [
        "# Source Code: \n",
        "\n",
        "bp = 100    #Boiling point in Celcius\n",
        "fp = 0      #Freezing point in Celcius\n",
        "\n",
        "bp_fahr = bp * (9/5) + 32   #Boiling point in Fahrenheit\n",
        "fp_fahr = fp * (9/5) + 32   #Freezing point in Fahrenheit\n",
        "\n",
        "print('Freezing point of water in Celcius is: ', fp)\n",
        "print('Boiling point of water in Celcius is: ', bp)\n",
        "\n",
        "print('')\n",
        "\n",
        "print('Boiling point of water in Fahrenheit is: ', fp_fahr)\n",
        "print('Boiling point of water in Fahrenheit is: ', bp_fahr)"
      ],
      "metadata": {
        "colab": {
          "base_uri": "https://localhost:8080/"
        },
        "id": "BurvRSflaT-m",
        "outputId": "9ec06f1f-dacc-44f3-b604-c84db32345c5"
      },
      "execution_count": null,
      "outputs": [
        {
          "output_type": "stream",
          "name": "stdout",
          "text": [
            "Freezing point of water in Celcius is:  0\n",
            "Boiling point of water in Celcius is:  100\n",
            "\n",
            "Boiling point of water in Fahrenheit is:  32.0\n",
            "Boiling point of water in Fahrenheit is:  212.0\n"
          ]
        }
      ]
    },
    {
      "cell_type": "markdown",
      "source": [
        "#Qn No.11 Write a python program to\n",
        "Write a Python program to calculate the amount payable if money has been lent on simple interest. Principal or money lent = P, Rate of interest = R% per annum and Time = T years. \n",
        "\n",
        "Then Simple Interest (SI) = (P x R x T)/ 100. \n",
        "\n",
        "Amount payable = Principal + SI.   \n",
        "\n",
        "P, R and T are given as input to the program."
      ],
      "metadata": {
        "id": "B9eRendDSVHv"
      }
    },
    {
      "cell_type": "code",
      "source": [
        "P = float(input(\"Enter the amount: \"))\n",
        "T = float(input(\"Enter the number of years: \"))\n",
        "R = float(input(\"Enter the rate of interest: \"))\n",
        "\n",
        "SI = (P * T * R)/100\n",
        "Amount = P + SI\n",
        "\n",
        "print('')   # Optional Statement\n",
        "print(\"The simple interset is: \",SI)\n",
        "print('The payable amount is: ', Amount)"
      ],
      "metadata": {
        "colab": {
          "base_uri": "https://localhost:8080/"
        },
        "id": "dJTI8yQTSZ7g",
        "outputId": "217fe6e1-6974-4fce-fc7b-83d124f3c782"
      },
      "execution_count": null,
      "outputs": [
        {
          "output_type": "stream",
          "name": "stdout",
          "text": [
            "Enter the amount: 2575000\n",
            "Enter the number of years: 7\n",
            "Enter the rate of interest: 4\n",
            "\n",
            "The simple interset is:  721000.0\n",
            "The payable amount is:  3296000.0\n"
          ]
        }
      ]
    },
    {
      "cell_type": "markdown",
      "source": [
        "#Qn No.12 Write a python program to: \n",
        "Write a program to calculate in how many days a work will be completed by three persons A, B and C together. A, B, C take x days, y days and z days respectively to do the job alone. The formula to calculate the number of days if they work together is xyz/(xy + yz + xz) days where x, y, and z are given as input to the program."
      ],
      "metadata": {
        "id": "cUuw9TjLTZBE"
      }
    },
    {
      "cell_type": "code",
      "source": [
        "x = int(input('Enter the number of days in which person A will take to complete the work: '))\n",
        "y = int(input('Enter the number of days in which person B will take to complete the work: '))\n",
        "z = int(input('Enter the number of days in which person C will take to complete the work: '))\n",
        "together = x * y * z / (x*y + y*z + x*z)\n",
        "print('')\n",
        "print('If the three people work together, the work can be completed in: ', together, ' days')"
      ],
      "metadata": {
        "colab": {
          "base_uri": "https://localhost:8080/"
        },
        "id": "CLb4Z4ThUFjx",
        "outputId": "ce1fe442-f779-40ca-a90e-54f1599f0e99"
      },
      "execution_count": null,
      "outputs": [
        {
          "output_type": "stream",
          "name": "stdout",
          "text": [
            "Enter the number of days in which person A will take to complete the work: 12\n",
            "Enter the number of days in which person B will take to complete the work: 10\n",
            "Enter the number of days in which person C will take to complete the work: 12\n",
            "\n",
            "If the three people work together, the work can be completed in:  3.75  days\n"
          ]
        }
      ]
    },
    {
      "cell_type": "markdown",
      "source": [
        "#Qn No.13 Write a python program to:\n",
        "Enter two integers and perform   all arithmetic operations on them."
      ],
      "metadata": {
        "id": "aur23f4jVVN4"
      }
    },
    {
      "cell_type": "code",
      "source": [
        "a = float(input('Enter the first number: '))\n",
        "b = float(input('Enter the second number: '))\n",
        "\n",
        "sum = a + b\n",
        "difference = a - b\n",
        "product = a * b\n",
        "quotient = a/b\n",
        "\n",
        "print('')\n",
        "\n",
        "print('The sum of a', a, 'and', b, 'is', sum)\n",
        "print('The difference of a', a, 'and', b, 'is', difference)\n",
        "print('The product of a', a, 'and', b, 'is', product)\n",
        "print('The Quotient of a', a, 'and', b, 'is', quotient)"
      ],
      "metadata": {
        "colab": {
          "base_uri": "https://localhost:8080/"
        },
        "id": "KQBjx0v_XTTA",
        "outputId": "6a861cf2-c0af-4d79-94a1-457b79d68fd6"
      },
      "execution_count": null,
      "outputs": [
        {
          "output_type": "stream",
          "name": "stdout",
          "text": [
            "Enter the first number: 25\n",
            "Enter the second number: 50\n",
            "\n",
            "The sum of a 25.0 and 50.0 is 75.0\n",
            "The difference of a 25.0 and 50.0 is -25.0\n",
            "The product of a 25.0 and 50.0 is 1250.0\n",
            "The Quotient of a 25.0 and 50.0 is 0.5\n"
          ]
        }
      ]
    },
    {
      "cell_type": "markdown",
      "source": [
        "#Qn No.14 Write a python program to: \n",
        "Swap two numbers using a third variable."
      ],
      "metadata": {
        "id": "MLzT477EYYDo"
      }
    },
    {
      "cell_type": "code",
      "source": [
        "x = input('Enter a value for x: ')\n",
        "y = input('Enter a value for y: ')\n",
        "\n",
        "print('')\n",
        "\n",
        "print('Values before swapping:')\n",
        "print('The value of x is:', x)\n",
        "print('The value of x is:', y)\n",
        "\n",
        "print('')\n",
        "\n",
        "x,y = y,x\n",
        "\n",
        "print('Values after swapping:')\n",
        "print('The value of x is:', x)\n",
        "print('The value of x is:', y)"
      ],
      "metadata": {
        "colab": {
          "base_uri": "https://localhost:8080/"
        },
        "id": "fwxDbJukYXNb",
        "outputId": "3022c39a-621f-4894-e62b-886401dd28d7"
      },
      "execution_count": null,
      "outputs": [
        {
          "output_type": "stream",
          "name": "stdout",
          "text": [
            "Enter a value for x: 50\n",
            "Enter a value for y: 75\n",
            "\n",
            "Values before swapping:\n",
            "The value of x is: 50\n",
            "The value of x is: 75\n",
            "\n",
            "Values after swapping:\n",
            "The value of x is: 75\n",
            "The value of x is: 50\n"
          ]
        }
      ]
    },
    {
      "cell_type": "markdown",
      "source": [
        "#Qn No.15 Write a python program to: \n",
        "Swap two numbers without  using a third variable."
      ],
      "metadata": {
        "id": "VfLERU6Lb7IK"
      }
    },
    {
      "cell_type": "code",
      "source": [
        "x = input('Enter a value for x: ')\n",
        "y = input('Enter a value for y: ')\n",
        "\n",
        "print('')\n",
        "\n",
        "print('Values before swapping:')\n",
        "print('The value of x is:', x)\n",
        "print('The value of x is:', y)\n",
        "\n",
        "print('')\n",
        "\n",
        "k = x\n",
        "x = y\n",
        "y = k\n",
        "\n",
        "print('Values after swapping:')\n",
        "print('The value of x is:', x)\n",
        "print('The value of x is:', y)"
      ],
      "metadata": {
        "colab": {
          "base_uri": "https://localhost:8080/"
        },
        "id": "NLIMpWtdabfN",
        "outputId": "b47c1b41-074d-444e-f244-6c4858341862"
      },
      "execution_count": null,
      "outputs": [
        {
          "output_type": "stream",
          "name": "stdout",
          "text": [
            "Note: Only enter int/float values\n",
            "\n",
            "Enter a value for x: 4\n",
            "Enter a value for y: 3\n",
            "\n",
            "Values before swapping:\n",
            "The value of x is: 4\n",
            "The value of x is: 3\n",
            "\n",
            "Values after swapping:\n",
            "The value of x is: 3\n",
            "The value of x is: 4\n"
          ]
        }
      ]
    },
    {
      "cell_type": "markdown",
      "source": [
        "#Qn No.16 Write a python program to:\n",
        "Repeat the string ‘‘GOOD MORNING” n times. Here ‘n’ is an integer  entered by the user."
      ],
      "metadata": {
        "id": "K2ZfDynscROj"
      }
    },
    {
      "cell_type": "code",
      "source": [
        "n = int(input('Enter the number of times you would like to repeat the message ‘‘GOOD MORNING”: '))\n",
        "print('')\n",
        "print('Good Morning ' * n)"
      ],
      "metadata": {
        "colab": {
          "base_uri": "https://localhost:8080/"
        },
        "id": "SEMDSeigcfC0",
        "outputId": "ac3d2b52-75c1-45b1-fa6f-f3217d4098ae"
      },
      "execution_count": null,
      "outputs": [
        {
          "output_type": "stream",
          "name": "stdout",
          "text": [
            "Enter the number of times you would like to repeat the message ‘‘GOOD MORNING”: 3\n",
            "\n",
            "Good Morning Good Morning Good Morning \n"
          ]
        }
      ]
    },
    {
      "cell_type": "markdown",
      "source": [
        "#Qn No.17 Write a python program to:\n",
        "Find average of three numbers."
      ],
      "metadata": {
        "id": "IX_F9mYCdETg"
      }
    },
    {
      "cell_type": "code",
      "source": [
        "a = float(input('Enter first number: '))\n",
        "b = float(input('Enter second number: '))\n",
        "c = float(input('Enter third number: '))\n",
        "\n",
        "print('')\n",
        "\n",
        "avg = (a + b + c)/3\n",
        "print('The average of the 3 values is:', avg)"
      ],
      "metadata": {
        "colab": {
          "base_uri": "https://localhost:8080/"
        },
        "id": "inoDbSGmdPQK",
        "outputId": "a57b8bed-ffe9-46c5-e7d4-43a5e81fc67c"
      },
      "execution_count": null,
      "outputs": [
        {
          "output_type": "stream",
          "name": "stdout",
          "text": [
            "Enter first number: 67\n",
            "Enter second number: 30\n",
            "Enter third number: 48\n",
            "\n",
            "The average of the 3 values is: 48.333333333333336\n"
          ]
        }
      ]
    },
    {
      "cell_type": "markdown",
      "source": [
        "#Qn No.18 Write a python program to:\n",
        "Find the volume of spheres with radius 7cm, 12cm, 16cm, respectively.\n",
        "\n",
        "The volume of a sphere with radius r is 4/3πr3"
      ],
      "metadata": {
        "id": "HuXx2SoQd54s"
      }
    },
    {
      "cell_type": "code",
      "source": [
        "rad1 = 7\n",
        "rad2 = 12\n",
        "rad3 = 16\n",
        "# The above are the radius of the speheres given in the question\n",
        "\n",
        "pi = 22/7     #Value of pi\n",
        "\n",
        "vol1 = 4/3 * pi * (rad1**3)\n",
        "vol2 = 4/3 * pi * (rad2**3)\n",
        "vol3 = 4/3 * pi * (rad3**3)\n",
        "\n",
        "print('The volume of the spehere with radius', rad1, 'is:', vol1)\n",
        "print('The volume of the spehere with radius', rad2, 'is:', vol2)\n",
        "print('The volume of the spehere with radius', rad3, 'is:', vol3)"
      ],
      "metadata": {
        "colab": {
          "base_uri": "https://localhost:8080/"
        },
        "id": "K4h3gNBUeRUX",
        "outputId": "20fd5d58-9b46-423a-b393-2b311493ec0e"
      },
      "execution_count": null,
      "outputs": [
        {
          "output_type": "stream",
          "name": "stdout",
          "text": [
            "The volume of the spehere with radius 7 is: 1437.333333333333\n",
            "The volume of the spehere with radius 12 is: 7241.142857142856\n",
            "The volume of the spehere with radius 16 is: 17164.190476190473\n"
          ]
        }
      ]
    },
    {
      "cell_type": "markdown",
      "source": [
        "#Qn No.19 Write a python program that\n",
        "Asks the user to enter their name and age. Print a  message addressed to the user that tells the user the year in which they will turn 100 years old."
      ],
      "metadata": {
        "id": "S_G1EtamG7wX"
      }
    },
    {
      "cell_type": "code",
      "source": [
        "name = str(input('Enter your name: '))\n",
        "crtage = int(input('Enter your current age: '))\n",
        "centage = 100 - crtage\n",
        "print('')\n",
        "print('Hello', name, 'Your current age is', crtage, 'and in', centage, 'years,1 you will turn 100 years old')"
      ],
      "metadata": {
        "colab": {
          "base_uri": "https://localhost:8080/"
        },
        "id": "iUNmLJ2kHHkw",
        "outputId": "5a202237-cba4-4c52-abca-bc4570c6876c"
      },
      "execution_count": null,
      "outputs": [
        {
          "output_type": "stream",
          "name": "stdout",
          "text": [
            "Enter your name: Dhananjay\n",
            "Enter your current age: 16\n",
            "\n",
            "Hello Dhananjay Your current age is 16 and in 84 years, you will turn 100 years old\n"
          ]
        }
      ]
    },
    {
      "cell_type": "markdown",
      "source": [
        "#Qn No.20 Write a program that\n",
        "Accepts the mass of an object and determines its energy.\n",
        "\n",
        "The formula E = mc2 states that the equivalent energy (E) can be calculated as the  mass (m) multiplied by the speed of light (c = about 3×108 m/s) squared. Write a program."
      ],
      "metadata": {
        "id": "JckSgfH9IMQR"
      }
    },
    {
      "cell_type": "code",
      "source": [
        "m = float(input(\"Enter the mass in g: \"))\n",
        "c = 3 * 10 ** 8\n",
        "e = (m/1000) * c ** 2\n",
        "print(\"The energy of an object with mass\",m,\" grams \",e,\"Joule.\")"
      ],
      "metadata": {
        "colab": {
          "base_uri": "https://localhost:8080/"
        },
        "id": "7XaWTNy5IdIj",
        "outputId": "d3f6aaf7-aed5-495e-c0a3-74e6cc4cd25e"
      },
      "execution_count": null,
      "outputs": [
        {
          "output_type": "stream",
          "name": "stdout",
          "text": [
            "Enter the mass in g: 4\n",
            "The energy of an object with mass 4.0  grams  360000000000000.0 Joule.\n"
          ]
        }
      ]
    }
  ]
}
