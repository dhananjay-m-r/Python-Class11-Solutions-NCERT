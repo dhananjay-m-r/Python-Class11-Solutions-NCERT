{
  "nbformat": 4,
  "nbformat_minor": 0,
  "metadata": {
    "colab": {
      "provenance": [],
      "toc_visible": true,
      "authorship_tag": "ABX9TyO9rL3engBmtVOxiuFEoLgI",
      "include_colab_link": true
    },
    "kernelspec": {
      "name": "python3",
      "display_name": "Python 3"
    },
    "language_info": {
      "name": "python"
    }
  },
  "cells": [
    {
      "cell_type": "markdown",
      "metadata": {
        "id": "view-in-github",
        "colab_type": "text"
      },
      "source": [
        "<a href=\"https://colab.research.google.com/github/dhananjay-m-r/Python-Class11-Solutions-NCERT/blob/main/ln%2010%20Book%20Back%20Exercises_Tuples%20%26%20Dictionaries.ipynb\" target=\"_parent\"><img src=\"https://colab.research.google.com/assets/colab-badge.svg\" alt=\"Open In Colab\"/></a>"
      ]
    },
    {
      "cell_type": "markdown",
      "source": [
        "#About this notebook\n",
        "\n",
        "Notebook made by: Dhananjay M.R\n",
        "\n",
        "Subject: Computer Science - Grade 11 CBSE\n",
        "\n",
        "Language: - Python\n",
        "\n",
        "Topic: Book Back Exercise Questions of the lesson - Lists\n",
        "\n",
        "Execution mode: Script Mode\n",
        "\n",
        "Note: Theory based questions are not available in this notebook."
      ],
      "metadata": {
        "id": "RhGqHN4q47fn"
      }
    },
    {
      "cell_type": "code",
      "source": [],
      "metadata": {
        "id": "BSm449755As4"
      },
      "execution_count": null,
      "outputs": []
    },
    {
      "cell_type": "markdown",
      "source": [
        "#Qn No.1 Find the output of the following statements: \n",
        "\n",
        "Consider the following tuples, tuple1 and tuple2:\n",
        "\n",
        "tuple1 = (23,1,45,67,45,9,55,45) \n",
        "\n",
        "tuple2 = (100,200)"
      ],
      "metadata": {
        "id": "P2CzGMW05BKm"
      }
    },
    {
      "cell_type": "code",
      "source": [
        "tuple1 = (23,1,45,67,45,9,55,45)\n",
        "tuple2 = (100,200)\n",
        "\n",
        "# Part i\n",
        "print('Solution for part i of the question:')\n",
        "print(tuple1.index(45))\n",
        "print('')\n",
        "# End of part i :)\n",
        "\n",
        "# Part ii\n",
        "print('Solution for part ii of the question:')\n",
        "print(tuple1.count(45))\n",
        "print('')\n",
        "# End of part ii :)\n",
        "\n",
        "# Part iii\n",
        "print('Solution for part iii of the question:')\n",
        "print(tuple1 + tuple2)\n",
        "print('')\n",
        "# End of part iii :)\n",
        "\n",
        "# Part iv\n",
        "print('Solution for part iv of the question:')\n",
        "print(len(tuple2))\n",
        "print('')\n",
        "# End of part iv :)\n",
        "\n",
        "# Part v\n",
        "print('Solution for part v of the question:')\n",
        "print(max(tuple1))\n",
        "print('')\n",
        "# End of part v :)\n",
        "\n",
        "# Part vi\n",
        "print('Solution for part vi of the question:')\n",
        "print(min(tuple1))\n",
        "print('')\n",
        "# End of part vi :)\n",
        "\n",
        "# Part vii\n",
        "print('Solution for part vii of the question:')\n",
        "print(sum(tuple2))\n",
        "print('')\n",
        "# End of part vii :)\n",
        "\n",
        "# Part viii\n",
        "print('Solution for part viii of the question:')\n",
        "print(sorted(tuple1))\n",
        "print(tuple1)\n",
        "# End of part viii :)"
      ],
      "metadata": {
        "colab": {
          "base_uri": "https://localhost:8080/"
        },
        "id": "1bCBXljY5TeJ",
        "outputId": "ebe3a1f3-4850-41ef-ba31-4c97bed97753"
      },
      "execution_count": null,
      "outputs": [
        {
          "output_type": "stream",
          "name": "stdout",
          "text": [
            "Solution for part i of the question:\n",
            "2\n",
            "\n",
            "Solution for part ii of the question:\n",
            "3\n",
            "\n",
            "Solution for part iii of the question:\n",
            "(23, 1, 45, 67, 45, 9, 55, 45, 100, 200)\n",
            "\n",
            "Solution for part iv of the question:\n",
            "2\n",
            "\n",
            "Solution for part v of the question:\n",
            "67\n",
            "\n",
            "Solution for part vi of the question:\n",
            "1\n",
            "\n",
            "Solution for part vii of the question:\n",
            "300\n",
            "\n",
            "Solution for part viii of the question:\n",
            "[1, 9, 23, 45, 45, 45, 55, 67]\n",
            "(23, 1, 45, 67, 45, 9, 55, 45)\n"
          ]
        }
      ]
    },
    {
      "cell_type": "markdown",
      "source": [
        "#Qn No.2 Find the output of the following statements:\n",
        "Consider the following dictionary stateCapital: \n",
        "\n",
        "stateCapital = {\"AndhraPradesh\":\"Hyderabad\", \"Bihar\":\"Patna\",\"Maharashtra\":\"Mumbai\",  \"Rajasthan\":\"Jaipur\"}"
      ],
      "metadata": {
        "id": "qK8H1fmO60Yy"
      }
    },
    {
      "cell_type": "code",
      "source": [
        "stateCapital = {\"AndhraPradesh\":\"Hyderabad\", \"Bihar\":\"Patna\",\n",
        "                \"Maharashtra\":\"Mumbai\", \"Rajasthan\":\"Jaipur\"}\n",
        "\n",
        "# Part i\n",
        "print('Solution for part i of the question:')\n",
        "print(stateCapital.get(\"Bihar\"))\n",
        "print('')\n",
        "# End of part i :)\n",
        "\n",
        "# Part ii\n",
        "print('Solution for part ii of the question:')\n",
        "print(stateCapital.keys())\n",
        "print('')\n",
        "# End of part ii :)\n",
        "\n",
        "# Part iii\n",
        "print('Solution for part iii of the question:')\n",
        "print(stateCapital.values())\n",
        "print('')\n",
        "# End of part iii :)\n",
        "\n",
        "# Part iv\n",
        "print('Solution for part iv of the question:')\n",
        "print(stateCapital.items())\n",
        "print('')\n",
        "# End of part iv :)\n",
        "\n",
        "# Part v\n",
        "print('Solution for part v of the question:')\n",
        "print(len(stateCapital))\n",
        "print('')\n",
        "# End of part v :)\n",
        "\n",
        "# Part vi\n",
        "print('Solution for part vi of the question:')\n",
        "print(\"Maharashtra\" in stateCapital)\n",
        "print('')\n",
        "# End of part vi :)\n",
        "\n",
        "# Part vii\n",
        "print('Solution for part vii of the question:')\n",
        "print(stateCapital.get(\"Assam\"))\n",
        "print('')\n",
        "# End of part vii :)\n",
        "\n",
        "# Part viii\n",
        "print('Solution for part viii of the question:')\n",
        "del stateCapital[\"Rajasthan\"]\n",
        "print(stateCapital)\n",
        "# End of part viii :)"
      ],
      "metadata": {
        "colab": {
          "base_uri": "https://localhost:8080/"
        },
        "id": "9dW5zEqt6-2f",
        "outputId": "a09cb2f1-373a-46f6-fb35-76499edf3fc5"
      },
      "execution_count": null,
      "outputs": [
        {
          "output_type": "stream",
          "name": "stdout",
          "text": [
            "Solution for part i of the question:\n",
            "Patna\n",
            "\n",
            "Solution for part ii of the question:\n",
            "dict_keys(['AndhraPradesh', 'Bihar', 'Maharashtra', 'Rajasthan'])\n",
            "\n",
            "Solution for part iii of the question:\n",
            "dict_values(['Hyderabad', 'Patna', 'Mumbai', 'Jaipur'])\n",
            "\n",
            "Solution for part iv of the question:\n",
            "dict_items([('AndhraPradesh', 'Hyderabad'), ('Bihar', 'Patna'), ('Maharashtra', 'Mumbai'), ('Rajasthan', 'Jaipur')])\n",
            "\n",
            "Solution for part v of the question:\n",
            "4\n",
            "\n",
            "Solution for part vi of the question:\n",
            "True\n",
            "\n",
            "Solution for part vii of the question:\n",
            "None\n",
            "\n",
            "Solution for part viii of the question:\n",
            "{'AndhraPradesh': 'Hyderabad', 'Bihar': 'Patna', 'Maharashtra': 'Mumbai'}\n"
          ]
        }
      ]
    }
  ]
}