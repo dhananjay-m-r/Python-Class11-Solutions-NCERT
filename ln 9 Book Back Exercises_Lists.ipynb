{
  "nbformat": 4,
  "nbformat_minor": 0,
  "metadata": {
    "colab": {
      "provenance": [],
      "toc_visible": true,
      "authorship_tag": "ABX9TyNVYNhIii2OhOX5y7d5Luf6",
      "include_colab_link": true
    },
    "kernelspec": {
      "name": "python3",
      "display_name": "Python 3"
    },
    "language_info": {
      "name": "python"
    }
  },
  "cells": [
    {
      "cell_type": "markdown",
      "metadata": {
        "id": "view-in-github",
        "colab_type": "text"
      },
      "source": [
        "<a href=\"https://colab.research.google.com/github/dhananjay-m-r/Python-Class11-Solutions-NCERT/blob/main/ln%209%20Book%20Back%20Exercises_Lists.ipynb\" target=\"_parent\"><img src=\"https://colab.research.google.com/assets/colab-badge.svg\" alt=\"Open In Colab\"/></a>"
      ]
    },
    {
      "cell_type": "markdown",
      "source": [
        "#About this notebook\n",
        "\n",
        "Notebook made by: Dhananjay M.R\n",
        "\n",
        "Subject: Computer Science - Grade 11 CBSE\n",
        "\n",
        "Language: - Python\n",
        "\n",
        "Topic: Book Back Exercise Questions of the lesson - Lists\n",
        "\n",
        "Execution mode: Script Mode\n",
        "\n",
        "Note: Theory based questions are not available in this notebook."
      ],
      "metadata": {
        "id": "Xh6wcyh-t0dl"
      }
    },
    {
      "cell_type": "markdown",
      "source": [
        "#Qn No.1 What will be the output of the following statements?"
      ],
      "metadata": {
        "id": "f9nKTz0EuLdX"
      }
    },
    {
      "cell_type": "code",
      "execution_count": null,
      "metadata": {
        "id": "H7gCfxuKtcWC",
        "colab": {
          "base_uri": "https://localhost:8080/"
        },
        "outputId": "c81d8e4a-e48b-4763-a290-857160bc9cc1"
      },
      "outputs": [
        {
          "output_type": "stream",
          "name": "stdout",
          "text": [
            "Solution for the part i of the question: \n",
            "[10, 12, 26, 32, 65, 80]\n",
            "\n",
            "Solution for the part ii of the question: \n",
            "[12, 32, 65, 26, 80, 10]\n",
            "\n",
            "Solution for the part iii of the question: \n",
            "[1, 2, 3, 4, 5, 6, 7, 8, 9, 10]\n",
            "\n",
            "Solution for the part iv of the question: \n"
          ]
        },
        {
          "output_type": "execute_result",
          "data": {
            "text/plain": [
              "5"
            ]
          },
          "metadata": {},
          "execution_count": 8
        }
      ],
      "source": [
        "# Part i\n",
        "print('Solution for the part i of the question: ')\n",
        "list1 = [12,32,65,26,80,10]\n",
        "list1.sort()\n",
        "print(list1)\n",
        "print('')\n",
        "# End of part i :)\n",
        "\n",
        "# Part ii\n",
        "print('Solution for the part ii of the question: ')\n",
        "list1 = [12,32,65,26,80,10]\n",
        "sorted(list1)\n",
        "print(list1)\n",
        "print('')\n",
        "# End of part ii :)\n",
        "\n",
        "# Part iii\n",
        "print('Solution for the part iii of the question: ')\n",
        "list1 = [1,2,3,4,5,6,7,8,9,10]\n",
        "list1[::-2]\n",
        "list1[:3] + list1[3:]\n",
        "print(list1)\n",
        "print('')\n",
        "# End of part iii :)\n",
        "\n",
        "# Part iv\n",
        "print('Solution for the part iv of the question: ')\n",
        "list1 = [1,2,3,4,5]\n",
        "list1[len(list1)-1]\n",
        "# End of part iv :)"
      ]
    },
    {
      "cell_type": "markdown",
      "source": [
        "#Qn No.2 What will be the elements of myList after the following two operations:\n",
        " myList = [10,20,30,40] \n",
        " \n",
        " i. myList.append([50,60]) \n",
        " \n",
        " ii. myList.extend([80,90])"
      ],
      "metadata": {
        "id": "74mbbKIHzRea"
      }
    },
    {
      "cell_type": "code",
      "source": [
        "myList = [10,20,30,40]\n",
        "myList.append([50,60])\n",
        "myList.extend([80,90])\n",
        "print(myList)"
      ],
      "metadata": {
        "colab": {
          "base_uri": "https://localhost:8080/"
        },
        "id": "3Gi96k14zEGG",
        "outputId": "cd126f98-a015-4c9c-a27f-269e1c65a26e"
      },
      "execution_count": null,
      "outputs": [
        {
          "output_type": "stream",
          "name": "stdout",
          "text": [
            "[10, 20, 30, 40, [50, 60], 80, 90]\n"
          ]
        }
      ]
    },
    {
      "cell_type": "markdown",
      "source": [
        "#Qn No.3 What will be the output of the following code segment: \n",
        " myList = [1,2,3,4,5,6,7,8,9,10]\n",
        " \n",
        " for i in range(0,len(myList)):\n",
        " \n",
        "  if i%2 == 0:\n",
        "\n",
        "print(myList[i])"
      ],
      "metadata": {
        "id": "MJzCU4uczo2l"
      }
    },
    {
      "cell_type": "code",
      "source": [
        "myList = [1,2,3,4,5,6,7,8,9,10]\n",
        "for i in range(0,len(myList)):\n",
        "  if i%2 ==0:\n",
        "    print(myList[i])"
      ],
      "metadata": {
        "colab": {
          "base_uri": "https://localhost:8080/"
        },
        "id": "kHxyAWl00Brj",
        "outputId": "27686732-550f-4f54-ee06-ff09ad98d1a0"
      },
      "execution_count": null,
      "outputs": [
        {
          "output_type": "stream",
          "name": "stdout",
          "text": [
            "1\n",
            "3\n",
            "5\n",
            "7\n",
            "9\n"
          ]
        }
      ]
    },
    {
      "cell_type": "markdown",
      "source": [
        "#Qn No.4 What will be the output of the following code segment:"
      ],
      "metadata": {
        "id": "tcrh7SZ20OPr"
      }
    },
    {
      "cell_type": "code",
      "source": [
        "# Part i\n",
        "print('Solution for the part i of the question: ')\n",
        "myList = [1,2,3,4,5,6,7,8,9,10]\n",
        "del myList[3:]\n",
        "print(myList)\n",
        "print('')\n",
        "# End of part i :)\n",
        "\n",
        "# Part ii\n",
        "print('Solution for the part ii of the question: ')\n",
        "myList = [1,2,3,4,5,6,7,8,9,10]\n",
        "del myList[:5]\n",
        "print(myList)\n",
        "print('')\n",
        "# End of part ii :)\n",
        "\n",
        "# Part iii\n",
        "print('Solution for the part iii of the question: ')\n",
        "myList = [1,2,3,4,5,6,7,8,9,10]\n",
        "del myList[::2]\n",
        "print(myList)\n",
        "# End of part iii :)"
      ],
      "metadata": {
        "colab": {
          "base_uri": "https://localhost:8080/"
        },
        "id": "i-_4-aSo0XQ2",
        "outputId": "ab10f4e4-3785-44be-8d23-56ca263981d7"
      },
      "execution_count": null,
      "outputs": [
        {
          "output_type": "stream",
          "name": "stdout",
          "text": [
            "Solution for the part i of the question: \n",
            "[1, 2, 3]\n",
            "\n",
            "Solution for the part ii of the question: \n",
            "[6, 7, 8, 9, 10]\n",
            "\n",
            "Solution for the part iii of the question: \n",
            "[2, 4, 6, 8, 10]\n"
          ]
        }
      ]
    },
    {
      "cell_type": "markdown",
      "source": [
        "#Qn No.7 Write Python statements to retrieve the following information from the list.\n",
        "The record of a student (Name, Roll No., Marks in five subjects and percentage of    marks) is stored in the following list: \n",
        "\n",
        "stRecord = ['Raman','A-36',[56,98,99,72,69],78.8] \n",
        "\n",
        "Write Python statements to retrieve the following information from the list stRecord. \n",
        "\n",
        "a) Percentage of the student \n",
        "\n",
        "b) Marks in the fifth subject \n",
        "\n",
        "c) Maximum marks of the student \n",
        "\n",
        "d) Roll no. of the student \n",
        "\n",
        "e) Change the name of the student from ‘Raman’ to ‘Raghav’"
      ],
      "metadata": {
        "id": "0AxjrsFS1UQn"
      }
    },
    {
      "cell_type": "code",
      "source": [
        "stRecord = ['Raman','A-36',[56,98,99,72,69],78.8]\n",
        "print('The percentage acquired by the student is:', stRecord[3])\n",
        "print('The mark scored by the student in the 5th subject is:', stRecord[2][4])\n",
        "print('The highest mark obtained by the student is', max(stRecord[2]))\n",
        "print('The roll no of the student is', stRecord[1])\n",
        "stRecord[0] = 'Raghav'\n",
        "print(stRecord)"
      ],
      "metadata": {
        "colab": {
          "base_uri": "https://localhost:8080/"
        },
        "id": "TH3Rex2o1qt7",
        "outputId": "7d52f4e6-36ab-47ca-c3e4-03ce0f02fb9d"
      },
      "execution_count": null,
      "outputs": [
        {
          "output_type": "stream",
          "name": "stdout",
          "text": [
            "The percentage acquired by the student is: 78.8\n",
            "The mark scored by the student in the 5th subject is: 69\n",
            "The highest mark obtained by the student is 99\n",
            "The roll no of the student is A-36\n",
            "['Raghav', 'A-36', [56, 98, 99, 72, 69], 78.8]\n"
          ]
        }
      ]
    }
  ]
}