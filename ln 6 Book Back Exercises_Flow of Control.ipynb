{
  "nbformat": 4,
  "nbformat_minor": 0,
  "metadata": {
    "colab": {
      "provenance": [],
      "toc_visible": true,
      "authorship_tag": "ABX9TyMB4yT1In6JN+n/vp0bdz0I",
      "include_colab_link": true
    },
    "kernelspec": {
      "name": "python3",
      "display_name": "Python 3"
    },
    "language_info": {
      "name": "python"
    }
  },
  "cells": [
    {
      "cell_type": "markdown",
      "metadata": {
        "id": "view-in-github",
        "colab_type": "text"
      },
      "source": [
        "<a href=\"https://colab.research.google.com/github/dhananjay-m-r/Python-Class11-Solutions-NCERT/blob/main/ln%206%20Book%20Back%20Exercises_Flow%20of%20Control.ipynb\" target=\"_parent\"><img src=\"https://colab.research.google.com/assets/colab-badge.svg\" alt=\"Open In Colab\"/></a>"
      ]
    },
    {
      "cell_type": "markdown",
      "source": [
        "#About this notebook\n",
        "\n",
        "Notebook made by: Dhananjay M.R\n",
        "\n",
        "Subject: Computer Science - Grade 11 CBSE\n",
        "\n",
        "Language: - Python\n",
        "\n",
        "Topic: Book Back Exercise Questions of the lesson - Flow of control\n",
        "\n",
        "Execution mode: Script Mode\n",
        "\n",
        "Note: Theory based questions are not available in this notebook."
      ],
      "metadata": {
        "id": "wdQVOtUgsnX7"
      }
    },
    {
      "cell_type": "markdown",
      "source": [
        "#Qn No.5 Find the output of the following program segments:"
      ],
      "metadata": {
        "id": "PwJBxe3AstUU"
      }
    },
    {
      "cell_type": "code",
      "execution_count": null,
      "metadata": {
        "colab": {
          "base_uri": "https://localhost:8080/"
        },
        "id": "UZxnF79Rsebp",
        "outputId": "1b7f4e63-c788-4fb5-b706-c113a49c2260"
      },
      "outputs": [
        {
          "output_type": "stream",
          "name": "stdout",
          "text": [
            "Output for part i of the segment:\n",
            "110\n",
            "108\n",
            "106\n",
            "104\n",
            "102\n",
            "\n",
            "Output for part ii of the segment:\n",
            "20\n",
            "22\n",
            "24\n",
            "26\n",
            "28\n",
            "\n",
            "Output for part iii of the segment:\n",
            "I\n",
            "N\n",
            "D\n",
            "I\n",
            "A\n",
            "\n",
            "Output for part iv of the segment:\n",
            "12\n",
            "\n",
            "Output for part v of the segment:\n",
            "2\n",
            "3\n",
            "4\n",
            "4\n",
            "6\n",
            "8\n",
            "6\n",
            "9\n",
            "\n",
            "Output for part vi of the segment:\n",
            "Current variable value:  7\n",
            "Current variable value:  5\n",
            "Current variable value:  4\n",
            "Good Bye\n"
          ]
        }
      ],
      "source": [
        "# Part i\n",
        "print('Output for part i of the segment:')\n",
        "a = 110\n",
        "while a > 100:\n",
        "  print(a)\n",
        "  a -= 2\n",
        "print('')\n",
        "# End of part i\n",
        "\n",
        "# Part ii\n",
        "print('Output for part ii of the segment:')\n",
        "for i in range(20,30,2):\n",
        "  print(i)\n",
        "print('')\n",
        "# End of part i\n",
        "\n",
        "# Part iii\n",
        "print('Output for part iii of the segment:')\n",
        "country = 'INDIA'\n",
        "for  i in country:\n",
        "  print(i)\n",
        "print('')\n",
        "# End of part iii\n",
        "\n",
        "# Part iv\n",
        "print('Output for part iv of the segment:')\n",
        "i = 0; sum = 0\n",
        "while i < 9:\n",
        "  if i % 4 == 0:\n",
        "    sum = sum + i\n",
        "  i = i + 2\n",
        "print(sum)\n",
        "print('')\n",
        "# End of part iv\n",
        "\n",
        "# Part v\n",
        "print('Output for part v of the segment:')\n",
        "for x in range(1,4):\n",
        "  for y in range(2,5):\n",
        "    if x * y > 10:\n",
        "      break\n",
        "    print(x * y)\n",
        "print('')\n",
        "# End of part v\n",
        "\n",
        "# Part vi\n",
        "print('Output for part vi of the segment:')\n",
        "var = 7\n",
        "while var > 0:\n",
        "  print ('Current variable value: ', var)\n",
        "  var = var -1\n",
        "  if var == 3:\n",
        "    break\n",
        "  else:\n",
        "    if var == 6:\n",
        "      var = var -1\n",
        "      continue\n",
        "print('Good Bye')\n",
        "# End of part vi"
      ]
    }
  ]
}